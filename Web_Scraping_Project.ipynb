{
  "nbformat": 4,
  "nbformat_minor": 0,
  "metadata": {
    "colab": {
      "name": "Web Scraping Project",
      "provenance": [],
      "collapsed_sections": []
    },
    "kernelspec": {
      "name": "python3",
      "display_name": "Python 3"
    },
    "language_info": {
      "name": "python"
    }
  },
  "cells": [
    {
      "cell_type": "code",
      "metadata": {
        "id": "x9L71SU0A2gt"
      },
      "source": [
        "import requests\n",
        "from bs4 import BeautifulSoup"
      ],
      "execution_count": 2,
      "outputs": []
    },
    {
      "cell_type": "code",
      "metadata": {
        "id": "5pQqxhHPt5j0",
        "colab": {
          "base_uri": "https://localhost:8080/"
        },
        "outputId": "4e1b3e5d-e520-44fe-e3c7-be1949d17a3e"
      },
      "source": [
        "\n",
        "res=requests.get('https://news.ycombinator.com/news')\n",
        "res2=requests.get('https://news.ycombinator.com/news?p=2')\n",
        "soup=BeautifulSoup(res.text,'lxml')\n",
        "soup2=BeautifulSoup(res.text,'lxml')\n",
        "\n",
        "links=soup.select('.storylink')\n",
        "subtext=soup.select('.subtext')\n",
        "links2=soup2.select('.storylink')\n",
        "subtext2=soup2.select('.subtext')\n",
        "\n",
        "mega_links=links+links2\n",
        "mega_subtext=subtext+subtext2\n",
        "def sort_stories_by_votes(hnlist):\n",
        "  return sorted(hnlist,key=lambda k:k['votes'],reverse=True)\n",
        "\n",
        "\n",
        "\n",
        "def create_custom_hn(links,votes):\n",
        "  hn=[]\n",
        "  for idx,item in enumerate(links):\n",
        "    title=item.getText()\n",
        "    href=item.get('href',None)\n",
        "    vote=subtext[idx].select('.score')\n",
        "    if len(vote):\n",
        "      points=int(vote[0].getText().replace('points',''))\n",
        "      if points>99:\n",
        "        hn.append({'title':title,'link':href,'votes':points})\n",
        "        return hn\n",
        " \n",
        " \n",
        "print(create_custom_hn(mega_links,mega_subtext))"
      ],
      "execution_count": 4,
      "outputs": [
        {
          "output_type": "stream",
          "name": "stdout",
          "text": [
            "[{'title': 'Gitlab S-1', 'link': 'https://www.sec.gov/Archives/edgar/data/1653482/000162828021018818/gitlab-sx1.htm', 'votes': 745}]\n"
          ]
        }
      ]
    }
  ]
}